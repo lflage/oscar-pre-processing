{
 "cells": [
  {
   "cell_type": "code",
   "execution_count": 2,
   "metadata": {},
   "outputs": [],
   "source": [
    "import json,pprint\n",
    "import pandas as pd\n",
    "pp = pprint.PrettyPrinter(indent=4)"
   ]
  },
  {
   "cell_type": "code",
   "execution_count": 3,
   "metadata": {},
   "outputs": [],
   "source": [
    "def yield_dict(path):\n",
    "    with open(path, \"r\") as json_file:\n",
    "        for line in json_file:\n",
    "            yield json.loads(line)\n",
    "\n",
    "def get_n_lines(path):\n",
    "    with open(path) as f:\n",
    "        return len(f.readlines())\n"
   ]
  },
  {
   "cell_type": "code",
   "execution_count": 4,
   "metadata": {},
   "outputs": [
    {
     "name": "stdout",
     "output_type": "stream",
     "text": [
      "170319\n"
     ]
    }
   ],
   "source": [
    "path = \"./el_oscar/el_meta_part_1.jsonl\"\n",
    "\n",
    "dict_generator = yield_dict(path)\n",
    "print(get_n_lines(path))"
   ]
  },
  {
   "cell_type": "code",
   "execution_count": 6,
   "metadata": {},
   "outputs": [
    {
     "name": "stdout",
     "output_type": "stream",
     "text": [
      "dict_keys(['content', 'warc_headers', 'metadata'])\n",
      "\n",
      "\n",
      "{   'categories': None,\n",
      "    'harmful_pp': 4732.3667,\n",
      "    'identification': {'label': 'el', 'prob': 0.9959522},\n",
      "    'quality_warnings': ['short_sentences', 'header'],\n",
      "    'sentence_identifications': [   {'label': 'el', 'prob': 0.99989176},\n",
      "                                    {'label': 'el', 'prob': 0.999814},\n",
      "                                    None,\n",
      "                                    {'label': 'el', 'prob': 0.9903453},\n",
      "                                    {'label': 'el', 'prob': 0.9264196},\n",
      "                                    {'label': 'el', 'prob': 0.99292034},\n",
      "                                    {'label': 'el', 'prob': 0.99966973},\n",
      "                                    {'label': 'el', 'prob': 0.98870313},\n",
      "                                    {'label': 'el', 'prob': 0.8910923},\n",
      "                                    {'label': 'el', 'prob': 0.99059033},\n",
      "                                    {'label': 'el', 'prob': 0.99920934},\n",
      "                                    {'label': 'el', 'prob': 0.9996737},\n",
      "                                    {'label': 'el', 'prob': 0.97868174},\n",
      "                                    {'label': 'el', 'prob': 0.9347625},\n",
      "                                    {'label': 'el', 'prob': 0.9995621},\n",
      "                                    {'label': 'el', 'prob': 1.0000365},\n",
      "                                    {'label': 'el', 'prob': 0.9997125},\n",
      "                                    {'label': 'el', 'prob': 0.9994884},\n",
      "                                    {'label': 'el', 'prob': 0.9992685},\n",
      "                                    {'label': 'el', 'prob': 0.9990812},\n",
      "                                    {'label': 'el', 'prob': 1.0000072},\n",
      "                                    {'label': 'el', 'prob': 0.997923},\n",
      "                                    {'label': 'el', 'prob': 0.9985947},\n",
      "                                    {'label': 'el', 'prob': 0.99991167},\n",
      "                                    {'label': 'el', 'prob': 1.0000035},\n",
      "                                    {'label': 'el', 'prob': 0.9999395},\n",
      "                                    {'label': 'el', 'prob': 0.9991457},\n",
      "                                    {'label': 'el', 'prob': 0.99971104},\n",
      "                                    {'label': 'el', 'prob': 0.99944717},\n",
      "                                    {'label': 'el', 'prob': 0.99876076},\n",
      "                                    {'label': 'el', 'prob': 0.99870497},\n",
      "                                    {'label': 'el', 'prob': 0.998829},\n",
      "                                    {'label': 'el', 'prob': 0.9994797},\n",
      "                                    {'label': 'el', 'prob': 0.9998606},\n",
      "                                    {'label': 'el', 'prob': 0.9998371},\n",
      "                                    {'label': 'el', 'prob': 0.9997631},\n",
      "                                    {'label': 'el', 'prob': 0.99981236},\n",
      "                                    {'label': 'el', 'prob': 1.0000095},\n",
      "                                    {'label': 'el', 'prob': 0.9991096},\n",
      "                                    {'label': 'el', 'prob': 0.99974805},\n",
      "                                    {'label': 'el', 'prob': 0.9998491},\n",
      "                                    {'label': 'el', 'prob': 0.9997802},\n",
      "                                    {'label': 'el', 'prob': 0.9997562},\n",
      "                                    {'label': 'el', 'prob': 0.99916685},\n",
      "                                    {'label': 'el', 'prob': 0.9888505},\n",
      "                                    {'label': 'el', 'prob': 0.9976422},\n",
      "                                    {'label': 'el', 'prob': 0.99987376},\n",
      "                                    {'label': 'el', 'prob': 0.9997049},\n",
      "                                    {'label': 'el', 'prob': 0.99990755},\n",
      "                                    {'label': 'el', 'prob': 0.9994252},\n",
      "                                    {'label': 'el', 'prob': 0.9994767},\n",
      "                                    {'label': 'el', 'prob': 0.9995088},\n",
      "                                    {'label': 'el', 'prob': 0.9998864},\n",
      "                                    {'label': 'el', 'prob': 0.99955195},\n",
      "                                    {'label': 'el', 'prob': 0.99966234},\n",
      "                                    {'label': 'el', 'prob': 0.9998324},\n",
      "                                    {'label': 'el', 'prob': 0.9997241},\n",
      "                                    {'label': 'el', 'prob': 0.9997401},\n",
      "                                    {'label': 'el', 'prob': 0.99873126},\n",
      "                                    {'label': 'el', 'prob': 0.99808145},\n",
      "                                    {'label': 'el', 'prob': 0.99989605},\n",
      "                                    {'label': 'el', 'prob': 0.99944556},\n",
      "                                    {'label': 'el', 'prob': 0.999288},\n",
      "                                    {'label': 'el', 'prob': 0.9999633},\n",
      "                                    {'label': 'el', 'prob': 0.9998865},\n",
      "                                    {'label': 'el', 'prob': 0.999339},\n",
      "                                    {'label': 'el', 'prob': 0.99968535},\n",
      "                                    {'label': 'el', 'prob': 0.9987132},\n",
      "                                    {'label': 'el', 'prob': 0.99974555}],\n",
      "    'tlsh': 'tlsh:T18DD5175259B15C79E0A3553781DDB605A61419E7E21A79F90EAE2C0CCCF3F301411841F3E6DFB4443EEED08A994A42D8A07D37CA6D6CEB49CAE4E63ACB60BEED1918611D1F'}\n"
     ]
    },
    {
     "ename": "ValueError",
     "evalue": "All arrays must be of the same length",
     "output_type": "error",
     "traceback": [
      "\u001b[0;31m---------------------------------------------------------------------------\u001b[0m",
      "\u001b[0;31mValueError\u001b[0m                                Traceback (most recent call last)",
      "Cell \u001b[0;32mIn[6], line 6\u001b[0m\n\u001b[1;32m      4\u001b[0m \u001b[39mprint\u001b[39m(\u001b[39m'\u001b[39m\u001b[39m\\n\u001b[39;00m\u001b[39m'\u001b[39m)\n\u001b[1;32m      5\u001b[0m pp\u001b[39m.\u001b[39mpprint(doc[\u001b[39m'\u001b[39m\u001b[39mmetadata\u001b[39m\u001b[39m'\u001b[39m])\n\u001b[0;32m----> 6\u001b[0m df \u001b[39m=\u001b[39m pd\u001b[39m.\u001b[39;49mDataFrame\u001b[39m.\u001b[39;49mfrom_dict(doc[\u001b[39m'\u001b[39;49m\u001b[39mmetadata\u001b[39;49m\u001b[39m'\u001b[39;49m])\n\u001b[1;32m      8\u001b[0m pp\u001b[39m.\u001b[39mpprint(doc[\u001b[39m'\u001b[39m\u001b[39mmetadata\u001b[39m\u001b[39m'\u001b[39m][\u001b[39m'\u001b[39m\u001b[39mharmful_pp\u001b[39m\u001b[39m'\u001b[39m])\n\u001b[1;32m      9\u001b[0m \u001b[39mbreak\u001b[39;00m\n",
      "File \u001b[0;32m~/.local/lib/python3.10/site-packages/pandas/core/frame.py:1764\u001b[0m, in \u001b[0;36mDataFrame.from_dict\u001b[0;34m(cls, data, orient, dtype, columns)\u001b[0m\n\u001b[1;32m   1758\u001b[0m     \u001b[39mraise\u001b[39;00m \u001b[39mValueError\u001b[39;00m(\n\u001b[1;32m   1759\u001b[0m         \u001b[39mf\u001b[39m\u001b[39m\"\u001b[39m\u001b[39mExpected \u001b[39m\u001b[39m'\u001b[39m\u001b[39mindex\u001b[39m\u001b[39m'\u001b[39m\u001b[39m, \u001b[39m\u001b[39m'\u001b[39m\u001b[39mcolumns\u001b[39m\u001b[39m'\u001b[39m\u001b[39m or \u001b[39m\u001b[39m'\u001b[39m\u001b[39mtight\u001b[39m\u001b[39m'\u001b[39m\u001b[39m for orient parameter. \u001b[39m\u001b[39m\"\u001b[39m\n\u001b[1;32m   1760\u001b[0m         \u001b[39mf\u001b[39m\u001b[39m\"\u001b[39m\u001b[39mGot \u001b[39m\u001b[39m'\u001b[39m\u001b[39m{\u001b[39;00morient\u001b[39m}\u001b[39;00m\u001b[39m'\u001b[39m\u001b[39m instead\u001b[39m\u001b[39m\"\u001b[39m\n\u001b[1;32m   1761\u001b[0m     )\n\u001b[1;32m   1763\u001b[0m \u001b[39mif\u001b[39;00m orient \u001b[39m!=\u001b[39m \u001b[39m\"\u001b[39m\u001b[39mtight\u001b[39m\u001b[39m\"\u001b[39m:\n\u001b[0;32m-> 1764\u001b[0m     \u001b[39mreturn\u001b[39;00m \u001b[39mcls\u001b[39;49m(data, index\u001b[39m=\u001b[39;49mindex, columns\u001b[39m=\u001b[39;49mcolumns, dtype\u001b[39m=\u001b[39;49mdtype)\n\u001b[1;32m   1765\u001b[0m \u001b[39melse\u001b[39;00m:\n\u001b[1;32m   1766\u001b[0m     realdata \u001b[39m=\u001b[39m data[\u001b[39m\"\u001b[39m\u001b[39mdata\u001b[39m\u001b[39m\"\u001b[39m]\n",
      "File \u001b[0;32m~/.local/lib/python3.10/site-packages/pandas/core/frame.py:664\u001b[0m, in \u001b[0;36mDataFrame.__init__\u001b[0;34m(self, data, index, columns, dtype, copy)\u001b[0m\n\u001b[1;32m    658\u001b[0m     mgr \u001b[39m=\u001b[39m \u001b[39mself\u001b[39m\u001b[39m.\u001b[39m_init_mgr(\n\u001b[1;32m    659\u001b[0m         data, axes\u001b[39m=\u001b[39m{\u001b[39m\"\u001b[39m\u001b[39mindex\u001b[39m\u001b[39m\"\u001b[39m: index, \u001b[39m\"\u001b[39m\u001b[39mcolumns\u001b[39m\u001b[39m\"\u001b[39m: columns}, dtype\u001b[39m=\u001b[39mdtype, copy\u001b[39m=\u001b[39mcopy\n\u001b[1;32m    660\u001b[0m     )\n\u001b[1;32m    662\u001b[0m \u001b[39melif\u001b[39;00m \u001b[39misinstance\u001b[39m(data, \u001b[39mdict\u001b[39m):\n\u001b[1;32m    663\u001b[0m     \u001b[39m# GH#38939 de facto copy defaults to False only in non-dict cases\u001b[39;00m\n\u001b[0;32m--> 664\u001b[0m     mgr \u001b[39m=\u001b[39m dict_to_mgr(data, index, columns, dtype\u001b[39m=\u001b[39;49mdtype, copy\u001b[39m=\u001b[39;49mcopy, typ\u001b[39m=\u001b[39;49mmanager)\n\u001b[1;32m    665\u001b[0m \u001b[39melif\u001b[39;00m \u001b[39misinstance\u001b[39m(data, ma\u001b[39m.\u001b[39mMaskedArray):\n\u001b[1;32m    666\u001b[0m     \u001b[39mimport\u001b[39;00m \u001b[39mnumpy\u001b[39;00m\u001b[39m.\u001b[39;00m\u001b[39mma\u001b[39;00m\u001b[39m.\u001b[39;00m\u001b[39mmrecords\u001b[39;00m \u001b[39mas\u001b[39;00m \u001b[39mmrecords\u001b[39;00m\n",
      "File \u001b[0;32m~/.local/lib/python3.10/site-packages/pandas/core/internals/construction.py:493\u001b[0m, in \u001b[0;36mdict_to_mgr\u001b[0;34m(data, index, columns, dtype, typ, copy)\u001b[0m\n\u001b[1;32m    489\u001b[0m     \u001b[39melse\u001b[39;00m:\n\u001b[1;32m    490\u001b[0m         \u001b[39m# dtype check to exclude e.g. range objects, scalars\u001b[39;00m\n\u001b[1;32m    491\u001b[0m         arrays \u001b[39m=\u001b[39m [x\u001b[39m.\u001b[39mcopy() \u001b[39mif\u001b[39;00m \u001b[39mhasattr\u001b[39m(x, \u001b[39m\"\u001b[39m\u001b[39mdtype\u001b[39m\u001b[39m\"\u001b[39m) \u001b[39melse\u001b[39;00m x \u001b[39mfor\u001b[39;00m x \u001b[39min\u001b[39;00m arrays]\n\u001b[0;32m--> 493\u001b[0m \u001b[39mreturn\u001b[39;00m arrays_to_mgr(arrays, columns, index, dtype\u001b[39m=\u001b[39;49mdtype, typ\u001b[39m=\u001b[39;49mtyp, consolidate\u001b[39m=\u001b[39;49mcopy)\n",
      "File \u001b[0;32m~/.local/lib/python3.10/site-packages/pandas/core/internals/construction.py:118\u001b[0m, in \u001b[0;36marrays_to_mgr\u001b[0;34m(arrays, columns, index, dtype, verify_integrity, typ, consolidate)\u001b[0m\n\u001b[1;32m    115\u001b[0m \u001b[39mif\u001b[39;00m verify_integrity:\n\u001b[1;32m    116\u001b[0m     \u001b[39m# figure out the index, if necessary\u001b[39;00m\n\u001b[1;32m    117\u001b[0m     \u001b[39mif\u001b[39;00m index \u001b[39mis\u001b[39;00m \u001b[39mNone\u001b[39;00m:\n\u001b[0;32m--> 118\u001b[0m         index \u001b[39m=\u001b[39m _extract_index(arrays)\n\u001b[1;32m    119\u001b[0m     \u001b[39melse\u001b[39;00m:\n\u001b[1;32m    120\u001b[0m         index \u001b[39m=\u001b[39m ensure_index(index)\n",
      "File \u001b[0;32m~/.local/lib/python3.10/site-packages/pandas/core/internals/construction.py:666\u001b[0m, in \u001b[0;36m_extract_index\u001b[0;34m(data)\u001b[0m\n\u001b[1;32m    664\u001b[0m lengths \u001b[39m=\u001b[39m \u001b[39mlist\u001b[39m(\u001b[39mset\u001b[39m(raw_lengths))\n\u001b[1;32m    665\u001b[0m \u001b[39mif\u001b[39;00m \u001b[39mlen\u001b[39m(lengths) \u001b[39m>\u001b[39m \u001b[39m1\u001b[39m:\n\u001b[0;32m--> 666\u001b[0m     \u001b[39mraise\u001b[39;00m \u001b[39mValueError\u001b[39;00m(\u001b[39m\"\u001b[39m\u001b[39mAll arrays must be of the same length\u001b[39m\u001b[39m\"\u001b[39m)\n\u001b[1;32m    668\u001b[0m \u001b[39mif\u001b[39;00m have_dicts:\n\u001b[1;32m    669\u001b[0m     \u001b[39mraise\u001b[39;00m \u001b[39mValueError\u001b[39;00m(\n\u001b[1;32m    670\u001b[0m         \u001b[39m\"\u001b[39m\u001b[39mMixing dicts with non-Series may lead to ambiguous ordering.\u001b[39m\u001b[39m\"\u001b[39m\n\u001b[1;32m    671\u001b[0m     )\n",
      "\u001b[0;31mValueError\u001b[0m: All arrays must be of the same length"
     ]
    }
   ],
   "source": [
    "df = pd.DataFrame({'harmful_pp':None, 'tlsh': None}, index=[0])\n",
    "for doc in dict_generator:\n",
    "    \n",
    "    # print(doc.keys())\n",
    "    # print('\\n')\n",
    "    # pp.pprint(doc['metadata'])\n",
    "    df.append({'harmful_pp': doc['metadata']['harmful_pp'],'tlsh':doc['metadata']['tlsh']})\n",
    "    # pp.pprint(doc['metadata']['harmful_pp'])\n"
   ]
  },
  {
   "cell_type": "code",
   "execution_count": null,
   "metadata": {},
   "outputs": [],
   "source": [
    "df"
   ]
  }
 ],
 "metadata": {
  "kernelspec": {
   "display_name": "Python 3",
   "language": "python",
   "name": "python3"
  },
  "language_info": {
   "codemirror_mode": {
    "name": "ipython",
    "version": 3
   },
   "file_extension": ".py",
   "mimetype": "text/x-python",
   "name": "python",
   "nbconvert_exporter": "python",
   "pygments_lexer": "ipython3",
   "version": "3.10.9"
  },
  "orig_nbformat": 4
 },
 "nbformat": 4,
 "nbformat_minor": 2
}
