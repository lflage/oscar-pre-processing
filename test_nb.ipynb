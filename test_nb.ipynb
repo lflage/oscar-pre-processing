{
 "cells": [
  {
   "cell_type": "code",
   "execution_count": 1,
   "metadata": {},
   "outputs": [],
   "source": [
    "import json,pprint\n",
    "import pandas as pd\n",
    "pp = pprint.PrettyPrinter(indent=4)"
   ]
  },
  {
   "cell_type": "code",
   "execution_count": 2,
   "metadata": {},
   "outputs": [],
   "source": [
    "def yield_dict(path):\n",
    "    with open(path, \"r\") as json_file:\n",
    "        for line in json_file:\n",
    "            yield json.loads(line)\n",
    "\n",
    "def get_n_lines(path):\n",
    "    with open(path) as f:\n",
    "        return len(f.readlines())\n"
   ]
  },
  {
   "cell_type": "code",
   "execution_count": 9,
   "metadata": {},
   "outputs": [
    {
     "name": "stdout",
     "output_type": "stream",
     "text": [
      "170319\n"
     ]
    }
   ],
   "source": [
    "path = \"./el_oscar/el_meta_part_1.jsonl\"\n",
    "\n",
    "dict_generator = yield_dict(path)\n",
    "# print(get_n_lines(path))"
   ]
  },
  {
   "cell_type": "code",
   "execution_count": 12,
   "metadata": {},
   "outputs": [],
   "source": [
    "df = pd.DataFrame({'harmful_pp':None, 'tlsh': None}, index=[0])\n",
    "for doc in dict_generator:\n",
    "    \n",
    "    # print(doc.keys())\n",
    "    # print('\\n')\n",
    "    # pp.pprint(doc['metadata'])\n",
    "    df2 = pd.DataFrame(data={'harmful_pp': doc['metadata']['harmful_pp'],'tlsh':doc['metadata']['tlsh']}, index=[0])\n",
    "    df = pd.concat([df, df2])\n",
    "    # pp.pprint(doc['metadata']['harmful_pp'])\n"
   ]
  },
  {
   "cell_type": "code",
   "execution_count": 15,
   "metadata": {},
   "outputs": [
    {
     "data": {
      "text/html": [
       "<div>\n",
       "<style scoped>\n",
       "    .dataframe tbody tr th:only-of-type {\n",
       "        vertical-align: middle;\n",
       "    }\n",
       "\n",
       "    .dataframe tbody tr th {\n",
       "        vertical-align: top;\n",
       "    }\n",
       "\n",
       "    .dataframe thead th {\n",
       "        text-align: right;\n",
       "    }\n",
       "</style>\n",
       "<table border=\"1\" class=\"dataframe\">\n",
       "  <thead>\n",
       "    <tr style=\"text-align: right;\">\n",
       "      <th></th>\n",
       "      <th>harmful_pp</th>\n",
       "      <th>tlsh</th>\n",
       "    </tr>\n",
       "  </thead>\n",
       "  <tbody>\n",
       "    <tr>\n",
       "      <th>0</th>\n",
       "      <td>NaN</td>\n",
       "      <td>None</td>\n",
       "    </tr>\n",
       "    <tr>\n",
       "      <th>0</th>\n",
       "      <td>4568.1963</td>\n",
       "      <td>tlsh:T105C21B5125B5DA35E0A3615B53CAB619A12414F...</td>\n",
       "    </tr>\n",
       "    <tr>\n",
       "      <th>0</th>\n",
       "      <td>7861.3060</td>\n",
       "      <td>tlsh:T1EB036D019CE59C38E002212393CE9146D25811A...</td>\n",
       "    </tr>\n",
       "    <tr>\n",
       "      <th>0</th>\n",
       "      <td>6612.9243</td>\n",
       "      <td>tlsh:T164514B11CCBA1C36E0D3BCA7B0CEE508A10459E...</td>\n",
       "    </tr>\n",
       "    <tr>\n",
       "      <th>0</th>\n",
       "      <td>26658.6700</td>\n",
       "      <td>tlsh:T1ED932993C5F80C02D2B59799A1D11ACE7991F93...</td>\n",
       "    </tr>\n",
       "    <tr>\n",
       "      <th>...</th>\n",
       "      <td>...</td>\n",
       "      <td>...</td>\n",
       "    </tr>\n",
       "    <tr>\n",
       "      <th>0</th>\n",
       "      <td>3179.4482</td>\n",
       "      <td>tlsh:T1DA7F8A7148B2AD76E0A35427A2CAA615A51416F...</td>\n",
       "    </tr>\n",
       "    <tr>\n",
       "      <th>0</th>\n",
       "      <td>7631.8423</td>\n",
       "      <td>tlsh:T1F445CF5148715DBAF073692BD6CED606B22419E...</td>\n",
       "    </tr>\n",
       "    <tr>\n",
       "      <th>0</th>\n",
       "      <td>7989.0370</td>\n",
       "      <td>tlsh:T179CA623157F46C3B80237023C2CA9B0AF66119F...</td>\n",
       "    </tr>\n",
       "    <tr>\n",
       "      <th>0</th>\n",
       "      <td>8093.2290</td>\n",
       "      <td>tlsh:T17048295168B29C7DE023542B93CAA214A11004E...</td>\n",
       "    </tr>\n",
       "    <tr>\n",
       "      <th>0</th>\n",
       "      <td>7981.5405</td>\n",
       "      <td>tlsh:T1AD66A7C133758E39D053996792DEA105122019F...</td>\n",
       "    </tr>\n",
       "  </tbody>\n",
       "</table>\n",
       "<p>170318 rows × 2 columns</p>\n",
       "</div>"
      ],
      "text/plain": [
       "    harmful_pp                                               tlsh\n",
       "0          NaN                                               None\n",
       "0    4568.1963  tlsh:T105C21B5125B5DA35E0A3615B53CAB619A12414F...\n",
       "0    7861.3060  tlsh:T1EB036D019CE59C38E002212393CE9146D25811A...\n",
       "0    6612.9243  tlsh:T164514B11CCBA1C36E0D3BCA7B0CEE508A10459E...\n",
       "0   26658.6700  tlsh:T1ED932993C5F80C02D2B59799A1D11ACE7991F93...\n",
       "..         ...                                                ...\n",
       "0    3179.4482  tlsh:T1DA7F8A7148B2AD76E0A35427A2CAA615A51416F...\n",
       "0    7631.8423  tlsh:T1F445CF5148715DBAF073692BD6CED606B22419E...\n",
       "0    7989.0370  tlsh:T179CA623157F46C3B80237023C2CA9B0AF66119F...\n",
       "0    8093.2290  tlsh:T17048295168B29C7DE023542B93CAA214A11004E...\n",
       "0    7981.5405  tlsh:T1AD66A7C133758E39D053996792DEA105122019F...\n",
       "\n",
       "[170318 rows x 2 columns]"
      ]
     },
     "execution_count": 15,
     "metadata": {},
     "output_type": "execute_result"
    }
   ],
   "source": [
    "df"
   ]
  }
 ],
 "metadata": {
  "kernelspec": {
   "display_name": "Python 3",
   "language": "python",
   "name": "python3"
  },
  "language_info": {
   "codemirror_mode": {
    "name": "ipython",
    "version": 3
   },
   "file_extension": ".py",
   "mimetype": "text/x-python",
   "name": "python",
   "nbconvert_exporter": "python",
   "pygments_lexer": "ipython3",
   "version": "3.10.9"
  },
  "orig_nbformat": 4
 },
 "nbformat": 4,
 "nbformat_minor": 2
}
